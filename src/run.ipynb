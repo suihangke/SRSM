{
 "cells": [
  {
   "cell_type": "code",
   "execution_count": null,
   "id": "aeee63be",
   "metadata": {},
   "outputs": [],
   "source": [
    "import importlib\n",
    "import numpy as np\n",
    "import matplotlib.pyplot as plt\n",
    "import h5py\n",
    "\n",
    "%load_ext autoreload\n",
    "%autoreload 2"
   ]
  },
  {
   "cell_type": "code",
   "execution_count": null,
   "id": "a8f0ca0e",
   "metadata": {},
   "outputs": [],
   "source": [
    "from utils.load import extract_spheroid_id_and_day_idx, load_srs_data, load_dc_data\n",
    "from process.denoising import wavelet_denoise_3d, pca_denoise_3d\n",
    "from process.segmentation import segmentation_pipeline\n",
    "from process.calculate_statistics import calculate_spheroid_statistics\n",
    "\n",
    "h5_path = \"DOE_11/Seed_300/Plate_80_A1_D1.h5\"\n",
    "spheroid_id, day_idx = extract_spheroid_id_and_day_idx(h5_path)\n",
    "print(spheroid_id, day_idx)\n",
    "# Load data\n",
    "srs_data = load_srs_data(h5_path)\n",
    "dc_data = load_dc_data(h5_path)\n",
    "\n",
    "srs_image = srs_data['data']\n",
    "dc_image = dc_data['data']\n",
    "\n",
    "# Get pixel size from metadata\n",
    "pixel_size_um = srs_data['attributes']['Pix_size (x,y)']\n",
    "\n",
    "print(f\"SRS image shape: {srs_image.shape}\")\n",
    "print(f\"DC image shape: {dc_image.shape}\")\n",
    "print(f\"Pixel size: {pixel_size_um} μm\")\n",
    "\n",
    "\n",
    "denoised_srs_image_2855 = pca_denoise_3d(srs_image[2], n_components_ratio=0.8, standardize=True)\n",
    "denoised_dc_image_2855 = pca_denoise_3d(dc_image[2], n_components_ratio=0.8, standardize=True)\n",
    "# denoised_srs_image_2855 = wavelet_denoise_3d(srs_image[2], wavelet='db4', level=None, sigma=None, mode='soft')\n",
    "# denoised_dc_image_2855 = wavelet_denoise_3d(dc_image[2], wavelet='db4', level=None, sigma=None, mode='soft')\n",
    "mask_3d, slice_metrics, processed_stack_srs, processed_stack_dc = segmentation_pipeline(denoised_srs_image_2855, denoised_dc_image_2855, pixel_size_um, spheroid_id, visualize_output_path=None, show_plot=True)\n",
    "\n",
    "\n",
    "stats = calculate_spheroid_statistics(srs_image, mask_3d)\n",
    "\n",
    "# Plot statistics\n",
    "fig, (ax1, ax2) = plt.subplots(1, 2, figsize=(12, 4))\n",
    "\n",
    "wavelengths = range(len(stats['mean']['3d']))\n",
    "\n",
    "ax1.plot(wavelengths, stats['mean']['3d'], 'o-', linewidth=2, markersize=6)\n",
    "ax1.set_xlabel('Wavelength Index')\n",
    "ax1.set_ylabel('Mean Intensity')\n",
    "ax1.set_title('Mean SRS Intensity by Wavelength')\n",
    "ax1.grid(True, alpha=0.3)\n",
    "\n",
    "ax2.plot(wavelengths, stats['std']['3d'], 's-', color='orange', linewidth=2, markersize=6)\n",
    "ax2.set_xlabel('Wavelength Index')\n",
    "ax2.set_ylabel('Standard Deviation')\n",
    "ax2.set_title('SRS Intensity Std Dev by Wavelength')\n",
    "ax2.grid(True, alpha=0.3)\n",
    "\n",
    "plt.tight_layout()\n",
    "plt.show()"
   ]
  }
 ],
 "metadata": {
  "language_info": {
   "name": "python"
  }
 },
 "nbformat": 4,
 "nbformat_minor": 5
}
